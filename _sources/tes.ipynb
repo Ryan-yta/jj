{
 "cells": [
  {
   "cell_type": "markdown",
   "metadata": {},
   "source": [
    "dnancancaicn\n",
    "aicisacn\n",
    "cnicnacc\n",
    "ncisncaica\n",
    "jcpicancoc\n",
    "cnicncnasnc"
   ]
  }
 ],
 "metadata": {
  "language_info": {
   "name": "python"
  }
 },
 "nbformat": 4,
 "nbformat_minor": 2
}
